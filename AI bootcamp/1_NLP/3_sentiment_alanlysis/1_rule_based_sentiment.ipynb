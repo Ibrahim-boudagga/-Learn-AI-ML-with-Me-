{
 "cells": [
  {
   "cell_type": "markdown",
   "id": "a2991239",
   "metadata": {},
   "source": [
    "# Rule-based Sentiment Analysis"
   ]
  },
  {
   "cell_type": "code",
   "execution_count": 62,
   "id": "6e6cbc5a",
   "metadata": {},
   "outputs": [],
   "source": [
    "sentence_1 = \"i had a great time at the movie it was really funny\"\n",
    "sentence_2 = \"i had a great time at the movie but the parking was terrible\"\n",
    "sentence_3 = \"i had a great time at the movie but the parking wasn't great\"\n",
    "sentence_4 = \"i went to see a movie\""
   ]
  },
  {
   "cell_type": "markdown",
   "id": "0ccd109e",
   "metadata": {},
   "source": [
    "### Textblob\n",
    "\n",
    "Rule based sentiment analysis using TextBlob\n",
    "\n",
    "TextBlob is a Python library for processing textual data.\n",
    "It provides a simple API for common NLP tasks, including sentiment analysis.\n",
    "\n",
    "Sentiment analysis is the process of determining the sentiment or emotion expressed in a piece of text.\n",
    "\n",
    "TextBlob uses a rule-based approach to sentiment analysis.\n",
    "It assigns a polarity score to the text, which indicates the sentiment of the text.\n",
    "\n",
    "The polarity score is a number between -1 and 1, where -1 indicates a very negative sentiment, 0 indicates a neutral sentiment, and 1 indicates a very positive sentiment."
   ]
  },
  {
   "cell_type": "code",
   "execution_count": 63,
   "id": "6636453e",
   "metadata": {},
   "outputs": [],
   "source": [
    "from textblob import TextBlob"
   ]
  },
  {
   "cell_type": "code",
   "execution_count": 64,
   "id": "1b199150",
   "metadata": {},
   "outputs": [
    {
     "name": "stdout",
     "output_type": "stream",
     "text": [
      "i had a great time at the movie it was really funny\n"
     ]
    },
    {
     "data": {
      "text/plain": [
       "0.525"
      ]
     },
     "execution_count": 64,
     "metadata": {},
     "output_type": "execute_result"
    }
   ],
   "source": [
    "print(sentence_1)\n",
    "sentiment_1 = TextBlob(sentence_1)\n",
    "sentiment_1.polarity"
   ]
  },
  {
   "cell_type": "code",
   "execution_count": 65,
   "id": "cba307d3",
   "metadata": {},
   "outputs": [
    {
     "name": "stdout",
     "output_type": "stream",
     "text": [
      "i had a great time at the movie but the parking was terrible\n"
     ]
    },
    {
     "data": {
      "text/plain": [
       "-0.09999999999999998"
      ]
     },
     "execution_count": 65,
     "metadata": {},
     "output_type": "execute_result"
    }
   ],
   "source": [
    "print(sentence_2)\n",
    "sentiment_2 = TextBlob(sentence_2)\n",
    "sentiment_2.polarity"
   ]
  },
  {
   "cell_type": "code",
   "execution_count": 66,
   "id": "8d65e4d7",
   "metadata": {},
   "outputs": [
    {
     "name": "stdout",
     "output_type": "stream",
     "text": [
      "i had a great time at the movie but the parking wasn't great\n"
     ]
    },
    {
     "data": {
      "text/plain": [
       "0.8"
      ]
     },
     "execution_count": 66,
     "metadata": {},
     "output_type": "execute_result"
    }
   ],
   "source": [
    "print(sentence_3)\n",
    "sentiment_3 = TextBlob(sentence_3)\n",
    "sentiment_3.polarity"
   ]
  },
  {
   "cell_type": "code",
   "execution_count": 67,
   "id": "c41c2580",
   "metadata": {},
   "outputs": [
    {
     "name": "stdout",
     "output_type": "stream",
     "text": [
      "i went to see a movie\n"
     ]
    },
    {
     "data": {
      "text/plain": [
       "0.0"
      ]
     },
     "execution_count": 67,
     "metadata": {},
     "output_type": "execute_result"
    }
   ],
   "source": [
    "print(sentence_4)\n",
    "sentiment_4 = TextBlob(sentence_4)\n",
    "sentiment_4.polarity"
   ]
  },
  {
   "cell_type": "markdown",
   "id": "2976c6be",
   "metadata": {},
   "source": [
    "# VADER"
   ]
  },
  {
   "cell_type": "markdown",
   "id": "1b8a48fc",
   "metadata": {},
   "source": [
    "Vader Sentiment Analysis\n",
    "\n",
    "Vader is a rule-based sentiment analysis tool that uses a combination of sentiment lexicons and rules to determine the sentiment of a text.\n",
    "\n",
    "It is designed to work with short, informal text, such as social media comments or reviews.\n",
    "\n",
    "{\n",
    "    \n",
    "    \"neg\": 0.0, : negative sentiment\n",
    "\n",
    "    \"neu\": 0.0, : neutral sentiment\n",
    "\n",
    "    \"pos\": 0.0, : positive sentiment\n",
    "\n",
    "    \"compound\": 0.0 : compound sentiment\n",
    "\n",
    "}\n",
    "\n"
   ]
  },
  {
   "cell_type": "code",
   "execution_count": 68,
   "id": "16e6df47",
   "metadata": {},
   "outputs": [],
   "source": [
    "from vaderSentiment.vaderSentiment import SentimentIntensityAnalyzer"
   ]
  },
  {
   "cell_type": "code",
   "execution_count": 69,
   "id": "4a316dd5",
   "metadata": {},
   "outputs": [],
   "source": [
    "sentiment_analyzer = SentimentIntensityAnalyzer()"
   ]
  },
  {
   "cell_type": "code",
   "execution_count": 70,
   "id": "781b39c7",
   "metadata": {},
   "outputs": [
    {
     "name": "stdout",
     "output_type": "stream",
     "text": [
      "i had a great time at the movie it was really funny\n"
     ]
    },
    {
     "data": {
      "text/plain": [
       "{'neg': 0.0, 'neu': 0.578, 'pos': 0.422, 'compound': 0.807}"
      ]
     },
     "execution_count": 70,
     "metadata": {},
     "output_type": "execute_result"
    }
   ],
   "source": [
    "print(sentence_1)\n",
    "sentiment_analyzer.polarity_scores(sentence_1)"
   ]
  },
  {
   "cell_type": "code",
   "execution_count": 71,
   "id": "47f786f4",
   "metadata": {},
   "outputs": [
    {
     "name": "stdout",
     "output_type": "stream",
     "text": [
      "i had a great time at the movie but the parking was terrible\n"
     ]
    },
    {
     "data": {
      "text/plain": [
       "{'neg': 0.234, 'neu': 0.621, 'pos': 0.144, 'compound': -0.3818}"
      ]
     },
     "execution_count": 71,
     "metadata": {},
     "output_type": "execute_result"
    }
   ],
   "source": [
    "print(sentence_2)\n",
    "sentiment_analyzer.polarity_scores(sentence_2)"
   ]
  },
  {
   "cell_type": "code",
   "execution_count": 72,
   "id": "512397e2",
   "metadata": {},
   "outputs": [
    {
     "name": "stdout",
     "output_type": "stream",
     "text": [
      "i had a great time at the movie but the parking wasn't great\n"
     ]
    },
    {
     "data": {
      "text/plain": [
       "{'neg': 0.247, 'neu': 0.611, 'pos': 0.142, 'compound': -0.4387}"
      ]
     },
     "execution_count": 72,
     "metadata": {},
     "output_type": "execute_result"
    }
   ],
   "source": [
    "print(sentence_3)\n",
    "sentiment_analyzer.polarity_scores(sentence_3)"
   ]
  },
  {
   "cell_type": "code",
   "execution_count": 73,
   "id": "e787bddf",
   "metadata": {},
   "outputs": [
    {
     "name": "stdout",
     "output_type": "stream",
     "text": [
      "i went to see a movie\n"
     ]
    },
    {
     "data": {
      "text/plain": [
       "{'neg': 0.0, 'neu': 1.0, 'pos': 0.0, 'compound': 0.0}"
      ]
     },
     "execution_count": 73,
     "metadata": {},
     "output_type": "execute_result"
    }
   ],
   "source": [
    "print(sentence_4)\n",
    "sentiment_analyzer.polarity_scores(sentence_4)"
   ]
  }
 ],
 "metadata": {
  "kernelspec": {
   "display_name": ".venv",
   "language": "python",
   "name": "python3"
  },
  "language_info": {
   "codemirror_mode": {
    "name": "ipython",
    "version": 3
   },
   "file_extension": ".py",
   "mimetype": "text/x-python",
   "name": "python",
   "nbconvert_exporter": "python",
   "pygments_lexer": "ipython3",
   "version": "3.12.6"
  }
 },
 "nbformat": 4,
 "nbformat_minor": 5
}
