{
 "cells": [
  {
   "cell_type": "code",
   "execution_count": 3,
   "id": "1e26ba07",
   "metadata": {},
   "outputs": [],
   "source": [
    "import numpy as np"
   ]
  },
  {
   "cell_type": "code",
   "execution_count": 4,
   "id": "2fd23bc6",
   "metadata": {},
   "outputs": [
    {
     "data": {
      "text/plain": [
       "array([ 0,  1,  2,  3,  4,  5,  6,  7,  8,  9, 10, 11])"
      ]
     },
     "execution_count": 4,
     "metadata": {},
     "output_type": "execute_result"
    }
   ],
   "source": [
    "arr_1d = np.arange(12)\n",
    "arr_1d"
   ]
  },
  {
   "cell_type": "markdown",
   "id": "2e4ff2a9",
   "metadata": {},
   "source": [
    "### Reshaping"
   ]
  },
  {
   "cell_type": "code",
   "execution_count": 6,
   "id": "a4ee656f",
   "metadata": {},
   "outputs": [
    {
     "name": "stdout",
     "output_type": "stream",
     "text": [
      "Reshaped to (3, 4):\n",
      " [[ 0  1  2  3]\n",
      " [ 4  5  6  7]\n",
      " [ 8  9 10 11]]\n",
      "Reshaped to (2, 3, 2):\n",
      " [[[ 0  1]\n",
      "  [ 2  3]\n",
      "  [ 4  5]]\n",
      "\n",
      " [[ 6  7]\n",
      "  [ 8  9]\n",
      "  [10 11]]]\n"
     ]
    }
   ],
   "source": [
    "arr_2d = arr_1d.reshape(3, 4)\n",
    "print(\"Reshaped to (3, 4):\\n\", arr_2d)\n",
    "arr_3d = arr_1d.reshape(2, 3, 2)\n",
    "print(\"Reshaped to (2, 3, 2):\\n\", arr_3d)"
   ]
  },
  {
   "cell_type": "code",
   "execution_count": 7,
   "id": "213f7a65",
   "metadata": {},
   "outputs": [
    {
     "name": "stdout",
     "output_type": "stream",
     "text": [
      "Flattened: [ 0  1  2  3  4  5  6  7  8  9 10 11]\n",
      "Ravel (flatten): [ 0  1  2  3  4  5  6  7  8  9 10 11]\n"
     ]
    }
   ],
   "source": [
    "# Flattening\n",
    "print(\"Flattened:\", arr_2d.flatten())\n",
    "print(\"Ravel (flatten):\", arr_2d.ravel())"
   ]
  },
  {
   "cell_type": "code",
   "execution_count": 8,
   "id": "2e0b32cf",
   "metadata": {},
   "outputs": [
    {
     "name": "stdout",
     "output_type": "stream",
     "text": [
      "Transposed:\n",
      " [[ 0  4  8]\n",
      " [ 1  5  9]\n",
      " [ 2  6 10]\n",
      " [ 3  7 11]]\n"
     ]
    }
   ],
   "source": [
    "# Transposing\n",
    "print(\"Transposed:\\n\", arr_2d.T)"
   ]
  },
  {
   "cell_type": "code",
   "execution_count": null,
   "id": "517b5cbe",
   "metadata": {},
   "outputs": [],
   "source": [
    "# Concatenation\n",
    "arr1 = np.array([1, 2, 3])\n",
    "arr2 = np.array([4, 5, 6])\n",
    "print(\"Concatenated:\", np.concatenate([arr1, arr2]))\n",
    "print(\"Stacked vertically:\\n\", np.vstack([arr1, arr2]))\n",
    "print(\"Stacked horizontally:\", np.hstack([arr1, arr2]))"
   ]
  }
 ],
 "metadata": {
  "kernelspec": {
   "display_name": ".venv",
   "language": "python",
   "name": "python3"
  },
  "language_info": {
   "codemirror_mode": {
    "name": "ipython",
    "version": 3
   },
   "file_extension": ".py",
   "mimetype": "text/x-python",
   "name": "python",
   "nbconvert_exporter": "python",
   "pygments_lexer": "ipython3",
   "version": "3.12.6"
  }
 },
 "nbformat": 4,
 "nbformat_minor": 5
}
