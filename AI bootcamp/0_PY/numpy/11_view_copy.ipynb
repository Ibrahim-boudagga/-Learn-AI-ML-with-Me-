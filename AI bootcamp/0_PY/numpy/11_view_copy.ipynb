{
 "cells": [
  {
   "cell_type": "markdown",
   "id": "f12d8391",
   "metadata": {},
   "source": [
    "# SECTION 11: MEMORY EFFICIENCY AND VIEWS VS COPIES\n"
   ]
  },
  {
   "cell_type": "code",
   "execution_count": 1,
   "id": "9fdf9232",
   "metadata": {},
   "outputs": [],
   "source": [
    "import numpy as np"
   ]
  },
  {
   "cell_type": "code",
   "execution_count": 2,
   "id": "c536c6bd",
   "metadata": {},
   "outputs": [
    {
     "data": {
      "text/plain": [
       "array([1, 2, 3, 4, 5])"
      ]
     },
     "execution_count": 2,
     "metadata": {},
     "output_type": "execute_result"
    }
   ],
   "source": [
    "original = np.array([1, 2, 3, 4, 5])\n",
    "original"
   ]
  },
  {
   "cell_type": "markdown",
   "id": "115be7b3",
   "metadata": {},
   "source": [
    "# View (no copy)\n"
   ]
  },
  {
   "cell_type": "code",
   "execution_count": null,
   "id": "f924ec08",
   "metadata": {},
   "outputs": [
    {
     "name": "stdout",
     "output_type": "stream",
     "text": [
      "View: \n",
      " [2 3 4]\n",
      "After modifying view - Original: \n",
      " [  1 999   3   4   5]\n",
      "After modifying view - View: \n",
      " [999   3   4]\n"
     ]
    }
   ],
   "source": [
    "view = original[1:4]\n",
    "print(\"View: \\n\", view)\n",
    "view[0] = 999\n",
    "print(\"before modifying view - Original: \\n\", original)\n",
    "print(\"After modifying view - View: \\n\", view)"
   ]
  },
  {
   "cell_type": "markdown",
   "id": "7dbd5184",
   "metadata": {},
   "source": [
    "# copy"
   ]
  },
  {
   "cell_type": "code",
   "execution_count": null,
   "id": "1b4f26d0",
   "metadata": {},
   "outputs": [],
   "source": [
    "copy = original[1:4].copy()\n",
    "print(\"Copy:\", copy)\n",
    "copy[0] = 999\n",
    "print(\"After modifying copy - Original:\", original)\n",
    "print(\"After modifying copy - Copy:\", copy)"
   ]
  }
 ],
 "metadata": {
  "kernelspec": {
   "display_name": ".venv",
   "language": "python",
   "name": "python3"
  },
  "language_info": {
   "codemirror_mode": {
    "name": "ipython",
    "version": 3
   },
   "file_extension": ".py",
   "mimetype": "text/x-python",
   "name": "python",
   "nbconvert_exporter": "python",
   "pygments_lexer": "ipython3",
   "version": "3.12.6"
  }
 },
 "nbformat": 4,
 "nbformat_minor": 5
}
