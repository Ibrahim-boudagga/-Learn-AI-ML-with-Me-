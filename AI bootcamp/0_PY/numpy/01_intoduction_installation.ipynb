{
 "cells": [
  {
   "cell_type": "markdown",
   "id": "31462f1b",
   "metadata": {},
   "source": [
    "# =============================================================================\n",
    "## SECTION 1: INTRODUCTION AND INSTALLATION\n",
    "# =============================================================================\n",
    "\n",
    "NumPy is the fundamental package for scientific computing in Python\n",
    "It provides support for large, multi-dimensional arrays and matrices\n",
    "along with a large collection of high-level mathematical functions\n",
    "\n",
    "Installation:\n",
    "pip install numpy"
   ]
  },
  {
   "cell_type": "markdown",
   "id": "fba09390",
   "metadata": {},
   "source": [
    "# Check Numpy version"
   ]
  },
  {
   "cell_type": "code",
   "execution_count": 6,
   "id": "41eddf75",
   "metadata": {},
   "outputs": [
    {
     "name": "stdout",
     "output_type": "stream",
     "text": [
      "NumPy version: 2.3.1\n"
     ]
    }
   ],
   "source": [
    "import numpy as np\n",
    "print(\"NumPy version:\", np.__version__)"
   ]
  },
  {
   "cell_type": "markdown",
   "id": "9b129464",
   "metadata": {},
   "source": [
    "# Check Python version"
   ]
  },
  {
   "cell_type": "code",
   "execution_count": 7,
   "id": "3a821dec",
   "metadata": {},
   "outputs": [
    {
     "name": "stdout",
     "output_type": "stream",
     "text": [
      "Python version: 3.12.6 (tags/v3.12.6:a4a2d2b, Sep  6 2024, 20:11:23) [MSC v.1940 64 bit (AMD64)]\n"
     ]
    }
   ],
   "source": [
    "import sys\n",
    "print(\"Python version:\", sys.version)"
   ]
  },
  {
   "cell_type": "markdown",
   "id": "e123661d",
   "metadata": {},
   "source": [
    "# Simple array"
   ]
  },
  {
   "cell_type": "code",
   "execution_count": 8,
   "id": "2a8dd96a",
   "metadata": {},
   "outputs": [
    {
     "name": "stdout",
     "output_type": "stream",
     "text": [
      "Simple array: [1 2 3 4 5]\n",
      "Type: <class 'numpy.ndarray'>\n",
      "Shape: (5,)\n",
      "Data type: int64\n"
     ]
    }
   ],
   "source": [
    "simple_array = np.array([1, 2, 3, 4, 5])\n",
    "print(\"Simple array:\", simple_array)\n",
    "print(\"Type:\", type(simple_array))\n",
    "print(\"Shape:\", simple_array.shape)\n",
    "print(\"Data type:\", simple_array.dtype)"
   ]
  },
  {
   "cell_type": "markdown",
   "id": "422d596f",
   "metadata": {},
   "source": [
    "# Performance cmp"
   ]
  },
  {
   "cell_type": "code",
   "execution_count": 9,
   "id": "ad765919",
   "metadata": {},
   "outputs": [
    {
     "name": "stdout",
     "output_type": "stream",
     "text": [
      "Python list operation time: 0.0604 seconds\n",
      "NumPy operation time: 0.0131 seconds\n",
      "Speedup: 4.6x\n"
     ]
    }
   ],
   "source": [
    "import time\n",
    "\n",
    "# Python list operation\n",
    "size = 1000000\n",
    "start_time = time.time()\n",
    "python_list = list(range(size))\n",
    "python_result = [x * 2 for x in python_list]\n",
    "python_time = time.time() - start_time\n",
    "\n",
    "# NumPy operation\n",
    "start_time = time.time()\n",
    "numpy_array = np.arange(size)\n",
    "numpy_result = numpy_array * 2\n",
    "numpy_time = time.time() - start_time\n",
    "\n",
    "print(f\"Python list operation time: {python_time:.4f} seconds\")\n",
    "print(f\"NumPy operation time: {numpy_time:.4f} seconds\")\n",
    "print(f\"Speedup: {python_time/numpy_time:.1f}x\")"
   ]
  },
  {
   "cell_type": "markdown",
   "id": "9cea1c35",
   "metadata": {},
   "source": [
    "# Key Takeaways\n",
    "✓ NumPy is essential for efficient numerical computing in Python\n",
    "✓ It provides fast, vectorized operations on arrays\n",
    "✓ NumPy arrays are more memory-efficient than Python lists\n",
    "✓ It's the foundation for the entire Python data science ecosystem\n",
    "✓ Understanding NumPy is crucial for AI/ML development"
   ]
  }
 ],
 "metadata": {
  "kernelspec": {
   "display_name": ".venv",
   "language": "python",
   "name": "python3"
  },
  "language_info": {
   "codemirror_mode": {
    "name": "ipython",
    "version": 3
   },
   "file_extension": ".py",
   "mimetype": "text/x-python",
   "name": "python",
   "nbconvert_exporter": "python",
   "pygments_lexer": "ipython3",
   "version": "3.12.6"
  }
 },
 "nbformat": 4,
 "nbformat_minor": 5
}
