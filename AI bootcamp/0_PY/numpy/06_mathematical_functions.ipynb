{
 "cells": [
  {
   "cell_type": "code",
   "execution_count": 1,
   "id": "ac1e0230",
   "metadata": {},
   "outputs": [],
   "source": [
    "import numpy as np"
   ]
  },
  {
   "cell_type": "code",
   "execution_count": 2,
   "id": "7e63e0f5",
   "metadata": {},
   "outputs": [
    {
     "name": "stdout",
     "output_type": "stream",
     "text": [
      "Original data: [1 2 3 4 5]\n"
     ]
    }
   ],
   "source": [
    "data = np.array([1, 2, 3, 4, 5])\n",
    "print(\"Original data:\", data)"
   ]
  },
  {
   "cell_type": "code",
   "execution_count": 3,
   "id": "c5aeeeea",
   "metadata": {},
   "outputs": [
    {
     "name": "stdout",
     "output_type": "stream",
     "text": [
      "Square root: [1.         1.41421356 1.73205081 2.         2.23606798]\n",
      "Exponential: [  2.71828183   7.3890561   20.08553692  54.59815003 148.4131591 ]\n",
      "Natural log: [0.         0.69314718 1.09861229 1.38629436 1.60943791]\n",
      "Sine: [ 0.84147098  0.90929743  0.14112001 -0.7568025  -0.95892427]\n",
      "Cosine: [ 0.54030231 -0.41614684 -0.9899925  -0.65364362  0.28366219]\n"
     ]
    }
   ],
   "source": [
    "print(\"Square root:\", np.sqrt(data))\n",
    "print(\"Exponential:\", np.exp(data))\n",
    "print(\"Natural log:\", np.log(data))\n",
    "print(\"Sine:\", np.sin(data))\n",
    "print(\"Cosine:\", np.cos(data))"
   ]
  },
  {
   "cell_type": "code",
   "execution_count": 4,
   "id": "759c28da",
   "metadata": {},
   "outputs": [
    {
     "name": "stdout",
     "output_type": "stream",
     "text": [
      "Mean: 3.0\n",
      "Median: 3.0\n",
      "Standard deviation: 1.4142135623730951\n",
      "Variance: 2.0\n",
      "Min: 1\n",
      "Max: 5\n",
      "Sum: 15\n",
      "Product: 120\n"
     ]
    }
   ],
   "source": [
    "print(\"Mean:\", np.mean(data))\n",
    "print(\"Median:\", np.median(data))\n",
    "print(\"Standard deviation:\", np.std(data))\n",
    "print(\"Variance:\", np.var(data))\n",
    "print(\"Min:\", np.min(data))\n",
    "print(\"Max:\", np.max(data))\n",
    "print(\"Sum:\", np.sum(data))\n",
    "print(\"Product:\", np.prod(data))"
   ]
  },
  {
   "cell_type": "markdown",
   "id": "13492a6f",
   "metadata": {},
   "source": [
    "# UNIVERSAL FUNCTIONS (UFUNCS)"
   ]
  },
  {
   "cell_type": "code",
   "execution_count": null,
   "id": "96d7884a",
   "metadata": {},
   "outputs": [],
   "source": [
    "x = np.array([1, 2, 3, 4, 5])\n",
    "y = np.array([2, 3, 4, 5, 6])"
   ]
  }
 ],
 "metadata": {
  "kernelspec": {
   "display_name": ".venv",
   "language": "python",
   "name": "python3"
  },
  "language_info": {
   "codemirror_mode": {
    "name": "ipython",
    "version": 3
   },
   "file_extension": ".py",
   "mimetype": "text/x-python",
   "name": "python",
   "nbconvert_exporter": "python",
   "pygments_lexer": "ipython3",
   "version": "3.12.6"
  }
 },
 "nbformat": 4,
 "nbformat_minor": 5
}
