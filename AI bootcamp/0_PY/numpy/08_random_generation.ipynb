{
 "cells": [
  {
   "cell_type": "code",
   "execution_count": 2,
   "id": "a4e93f35",
   "metadata": {},
   "outputs": [],
   "source": [
    "import numpy as np"
   ]
  },
  {
   "cell_type": "markdown",
   "id": "66768bc0",
   "metadata": {},
   "source": [
    "Set seed for reproducibility"
   ]
  },
  {
   "cell_type": "code",
   "execution_count": 3,
   "id": "51315295",
   "metadata": {},
   "outputs": [],
   "source": [
    "np.random.seed(42)"
   ]
  },
  {
   "cell_type": "markdown",
   "id": "6045662f",
   "metadata": {},
   "source": [
    "### Different types of random numbers"
   ]
  },
  {
   "cell_type": "code",
   "execution_count": 4,
   "id": "bbc9fe4d",
   "metadata": {},
   "outputs": [
    {
     "name": "stdout",
     "output_type": "stream",
     "text": [
      "Random integers (1-10): [7 4 8 5 7]\n",
      "Random floats (0-1): [0.44583275 0.09997492 0.45924889 0.33370861 0.14286682]\n",
      "Random normal distribution: [-0.4826188   0.16416482  0.23309524  0.11799461  1.46237812]\n",
      "Random uniform distribution: [0.07066305 0.23062425 5.2477466  3.99860972 0.46665663]\n"
     ]
    }
   ],
   "source": [
    "print(\"Random integers (1-10):\", np.random.randint(1, 11, 5))\n",
    "print(\"Random floats (0-1):\", np.random.random(5))\n",
    "print(\"Random normal distribution:\", np.random.normal(0, 1, 5))\n",
    "print(\"Random uniform distribution:\", np.random.uniform(0, 10, 5))"
   ]
  },
  {
   "cell_type": "markdown",
   "id": "ff73e8dd",
   "metadata": {},
   "source": [
    "# Random choice and shuffle"
   ]
  },
  {
   "cell_type": "code",
   "execution_count": null,
   "id": "94b6d6e1",
   "metadata": {},
   "outputs": [
    {
     "name": "stdout",
     "output_type": "stream",
     "text": [
      "Random choice: ['D' 'D' 'C']\n",
      "Random choice with replacement: ['B' 'B' 'C']\n"
     ]
    }
   ],
   "source": [
    "# Random choice \n",
    "choices = np.array([\"A\", \"B\", \"C\", \"D\"])\n",
    "print(\"Random choice:\", np.random.choice(choices, 3))\n",
    "print(\"Random choice with replacement:\", np.random.choice(choices, 3, replace=True))"
   ]
  },
  {
   "cell_type": "code",
   "execution_count": null,
   "id": "1b38e4d7",
   "metadata": {},
   "outputs": [
    {
     "name": "stdout",
     "output_type": "stream",
     "text": [
      "Original array:\n",
      " [[ 1  2  3  4  5]\n",
      " [ 6  7  8  9 10]]\n",
      "Shuffled array:\n",
      " [[ 1  2  3  4  5]\n",
      " [ 6  7  8  9 10]]\n"
     ]
    }
   ],
   "source": [
    "# Random shuffle\n",
    "arr = np.array([[0, 0, 0, 0, 0], [1, 1, 1, 1, 1]])\n",
    "print(\"Original array:\\n\", arr)\n",
    "np.random.shuffle(arr)\n",
    "print(\"Shuffled array:\\n\", arr)\n"
   ]
  }
 ],
 "metadata": {
  "kernelspec": {
   "display_name": ".venv",
   "language": "python",
   "name": "python3"
  },
  "language_info": {
   "codemirror_mode": {
    "name": "ipython",
    "version": 3
   },
   "file_extension": ".py",
   "mimetype": "text/x-python",
   "name": "python",
   "nbconvert_exporter": "python",
   "pygments_lexer": "ipython3",
   "version": "3.12.6"
  }
 },
 "nbformat": 4,
 "nbformat_minor": 5
}
