{
 "cells": [
  {
   "cell_type": "markdown",
   "id": "40c04267",
   "metadata": {},
   "source": [
    "# SECTION 5: ARRAY OPERATIONS AND BROADCASTING"
   ]
  },
  {
   "cell_type": "code",
   "execution_count": 2,
   "id": "4c33c6c6",
   "metadata": {},
   "outputs": [
    {
     "data": {
      "text/plain": [
       "(array([1, 2, 3, 4]), array([5, 6, 7, 8]))"
      ]
     },
     "execution_count": 2,
     "metadata": {},
     "output_type": "execute_result"
    }
   ],
   "source": [
    "import numpy as np\n",
    "# Create arrays for operations\n",
    "a = np.array([1, 2, 3, 4])\n",
    "b = np.array([5, 6, 7, 8])\n",
    "a,b"
   ]
  },
  {
   "cell_type": "markdown",
   "id": "f23b875a",
   "metadata": {},
   "source": [
    "# Basic arithmetic operations"
   ]
  },
  {
   "cell_type": "code",
   "execution_count": null,
   "id": "abae97e6",
   "metadata": {},
   "outputs": [],
   "source": [
    "print(\"Addition:\", a + b)\n",
    "print(\"Subtraction:\", a - b)\n",
    "print(\"Multiplication:\", a * b)\n",
    "print(\"Division:\", a / b)\n",
    "print(\"Power:\", a**2)"
   ]
  },
  {
   "cell_type": "markdown",
   "id": "81dd79f3",
   "metadata": {},
   "source": [
    "# Broadcasting example\n",
    " Broadcasting is NumPy's ability to perform operations between arrays of different shapes.\n",
    " When broadcasting, NumPy automatically expands the smaller array to match the shape of\n",
    " the larger array by virtually repeating elements along the missing dimensions.\n",
    " This allows efficient operations without actually copying data.\n"
   ]
  },
  {
   "cell_type": "code",
   "execution_count": null,
   "id": "c67b32f1",
   "metadata": {},
   "outputs": [],
   "source": [
    "matrix = np.array([[1, 2, 3], [4, 5, 6]])\n",
    "scalar = 2\n",
    "print(\"Matrix:\\n\", matrix)\n",
    "print(\"Scalar:\", scalar)\n",
    "print(\"Matrix + scalar:\\n\", matrix + scalar)\n",
    "print(\"Matrix * scalar:\\n\", matrix * scalar)"
   ]
  }
 ],
 "metadata": {
  "kernelspec": {
   "display_name": ".venv",
   "language": "python",
   "name": "python3"
  },
  "language_info": {
   "codemirror_mode": {
    "name": "ipython",
    "version": 3
   },
   "file_extension": ".py",
   "mimetype": "text/x-python",
   "name": "python",
   "nbconvert_exporter": "python",
   "pygments_lexer": "ipython3",
   "version": "3.12.6"
  }
 },
 "nbformat": 4,
 "nbformat_minor": 5
}
