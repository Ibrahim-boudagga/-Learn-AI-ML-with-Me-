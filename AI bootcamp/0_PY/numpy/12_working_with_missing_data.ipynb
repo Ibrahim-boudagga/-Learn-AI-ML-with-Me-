{
 "cells": [
  {
   "cell_type": "markdown",
   "id": "b6c923f2",
   "metadata": {},
   "source": [
    "# Create array with NaN values"
   ]
  },
  {
   "cell_type": "code",
   "execution_count": 17,
   "id": "9ce7b37f",
   "metadata": {},
   "outputs": [],
   "source": [
    "import numpy as np"
   ]
  },
  {
   "cell_type": "code",
   "execution_count": 18,
   "id": "37d9673f",
   "metadata": {},
   "outputs": [],
   "source": [
    "arr_with_nan = np.array([1, np.nan, 3, 4, np.nan, 6])"
   ]
  },
  {
   "cell_type": "code",
   "execution_count": 19,
   "id": "94692043",
   "metadata": {},
   "outputs": [
    {
     "data": {
      "text/plain": [
       "array([False,  True, False, False,  True, False])"
      ]
     },
     "execution_count": 19,
     "metadata": {},
     "output_type": "execute_result"
    }
   ],
   "source": [
    "np.isnan(arr_with_nan)"
   ]
  },
  {
   "cell_type": "code",
   "execution_count": 20,
   "id": "0006998c",
   "metadata": {},
   "outputs": [
    {
     "data": {
      "text/plain": [
       "array([1., 3., 4., 6.])"
      ]
     },
     "execution_count": 20,
     "metadata": {},
     "output_type": "execute_result"
    }
   ],
   "source": [
    "arr_with_nan[~np.isnan(arr_with_nan)]"
   ]
  },
  {
   "cell_type": "code",
   "execution_count": 21,
   "id": "5a46d342",
   "metadata": {},
   "outputs": [
    {
     "data": {
      "text/plain": [
       "np.float64(3.5)"
      ]
     },
     "execution_count": 21,
     "metadata": {},
     "output_type": "execute_result"
    }
   ],
   "source": [
    "np.nanmean(arr_with_nan)"
   ]
  },
  {
   "cell_type": "code",
   "execution_count": null,
   "id": "6940e0e6",
   "metadata": {},
   "outputs": [
    {
     "data": {
      "text/plain": [
       "14"
      ]
     },
     "execution_count": 22,
     "metadata": {},
     "output_type": "execute_result"
    }
   ],
   "source": [
    "int( np.nansum(arr_with_nan))"
   ]
  }
 ],
 "metadata": {
  "kernelspec": {
   "display_name": ".venv",
   "language": "python",
   "name": "python3"
  },
  "language_info": {
   "codemirror_mode": {
    "name": "ipython",
    "version": 3
   },
   "file_extension": ".py",
   "mimetype": "text/x-python",
   "name": "python",
   "nbconvert_exporter": "python",
   "pygments_lexer": "ipython3",
   "version": "3.12.6"
  }
 },
 "nbformat": 4,
 "nbformat_minor": 5
}
