{
 "cells": [
  {
   "cell_type": "code",
   "execution_count": 2,
   "id": "e01eecde",
   "metadata": {},
   "outputs": [],
   "source": [
    "import numpy as np"
   ]
  },
  {
   "cell_type": "code",
   "execution_count": 3,
   "id": "d2f973c0",
   "metadata": {},
   "outputs": [
    {
     "name": "stdout",
     "output_type": "stream",
     "text": [
      "Original array:\n",
      " [[ 1  2  3  4]\n",
      " [ 5  6  7  8]\n",
      " [ 9 10 11 12]]\n",
      "Element at [0, 1]: 2\n",
      "Element at [2, 3]: 12\n",
      "Element at [-1, -1]: 12\n",
      "Element at [-2, -3]: 6\n"
     ]
    }
   ],
   "source": [
    "# Create a sample array\n",
    "arr = np.array([[1, 2, 3, 4], [5, 6, 7, 8], [9, 10, 11, 12]])\n",
    "print(\"Original array:\\n\", arr)\n",
    "\n",
    "# Basic indexing\n",
    "print(\"Element at [0, 1]:\", arr[0, 1])\n",
    "print(\"Element at [2, 3]:\", arr[2, 3])\n",
    "\n",
    "# Negative indexing\n",
    "print(\"Element at [-1, -1]:\", arr[-1, -1])\n",
    "print(\"Element at [-2, -3]:\", arr[-2, -3])"
   ]
  },
  {
   "cell_type": "code",
   "execution_count": 4,
   "id": "ab9399d1",
   "metadata": {},
   "outputs": [
    {
     "name": "stdout",
     "output_type": "stream",
     "text": [
      "1D array: [1 2 3 4 5 6 7 8]\n",
      "First 3 elements: [1 2 3]\n",
      "Last 3 elements: [6 7 8]\n",
      "Every 2nd element: [1 3 5 7]\n",
      "Reverse array: [8 7 6 5 4 3 2 1]\n",
      "\n",
      "2D array:\n",
      " [[ 1  2  3  4]\n",
      " [ 5  6  7  8]\n",
      " [ 9 10 11 12]]\n",
      "First row: [1 2 3 4]\n",
      "First column: [1 5 9]\n",
      "Last row: [ 9 10 11 12]\n",
      "Last column: [ 4  8 12]\n"
     ]
    }
   ],
   "source": [
    "# 1D array slicing\n",
    "arr_1d = np.array([1, 2, 3, 4, 5, 6, 7, 8])\n",
    "print(\"1D array:\", arr_1d)\n",
    "print(\"First 3 elements:\", arr_1d[:3])\n",
    "print(\"Last 3 elements:\", arr_1d[-3:])\n",
    "print(\"Every 2nd element:\", arr_1d[::2])\n",
    "print(\"Reverse array:\", arr_1d[::-1])\n",
    "\n",
    "# 2D array slicing\n",
    "print(\"\\n2D array:\\n\", arr)\n",
    "print(\"First row:\", arr[0])\n",
    "print(\"First column:\", arr[:, 0])\n",
    "print(\"Last row:\", arr[-1])\n",
    "print(\"Last column:\", arr[:, -1])"
   ]
  },
  {
   "cell_type": "code",
   "execution_count": 5,
   "id": "a905a1e4",
   "metadata": {},
   "outputs": [
    {
     "name": "stdout",
     "output_type": "stream",
     "text": [
      "First two rows:\n",
      " [[1 2 3 4]\n",
      " [5 6 7 8]]\n",
      "Last two columns:\n",
      " [[ 3  4]\n",
      " [ 7  8]\n",
      " [11 12]]\n",
      "Subarray [1:3, 1:3]:\n",
      " [[ 6  7]\n",
      " [10 11]]\n",
      "Every other row:\n",
      " [[ 1  2  3  4]\n",
      " [ 9 10 11 12]]\n",
      "Every other column:\n",
      " [[ 1  3]\n",
      " [ 5  7]\n",
      " [ 9 11]]\n",
      "Every other element in both dimensions:\n",
      " [[ 1  3]\n",
      " [ 9 11]]\n"
     ]
    }
   ],
   "source": [
    "# Multiple slices\n",
    "print(\"First two rows:\\n\", arr[:2])\n",
    "print(\"Last two columns:\\n\", arr[:, -2:])\n",
    "print(\"Subarray [1:3, 1:3]:\\n\", arr[1:3, 1:3])\n",
    "\n",
    "# Step slicing\n",
    "print(\"Every other row:\\n\", arr[::2])\n",
    "print(\"Every other column:\\n\", arr[:, ::2])\n",
    "print(\"Every other element in both dimensions:\\n\", arr[::2, ::2])"
   ]
  },
  {
   "cell_type": "code",
   "execution_count": 6,
   "id": "16688c06",
   "metadata": {},
   "outputs": [
    {
     "name": "stdout",
     "output_type": "stream",
     "text": [
      "Boolean mask:\n",
      " [[False False False False]\n",
      " [False  True  True  True]\n",
      " [ True  True  True  True]]\n",
      "Elements > 5: [ 6  7  8  9 10 11 12]\n",
      "Even elements: [ 2  4  6  8 10 12]\n",
      "Elements between 5 and 10: [6 7 8 9]\n"
     ]
    }
   ],
   "source": [
    "# Create boolean mask\n",
    "mask = arr > 5\n",
    "print(\"Boolean mask:\\n\", mask)\n",
    "print(\"Elements > 5:\", arr[mask])\n",
    "\n",
    "# Multiple conditions\n",
    "mask_even = arr % 2 == 0\n",
    "print(\"Even elements:\", arr[mask_even])\n",
    "\n",
    "# Combined conditions\n",
    "mask_combined = (arr > 5) & (arr < 10)\n",
    "print(\"Elements between 5 and 10:\", arr[mask_combined])"
   ]
  },
  {
   "cell_type": "code",
   "execution_count": 7,
   "id": "8e27a367",
   "metadata": {},
   "outputs": [
    {
     "name": "stdout",
     "output_type": "stream",
     "text": [
      "Using integer array indexing: [[ 1  2  3  4]\n",
      " [ 9 10 11 12]]\n",
      "Fancy indexing [0, 2], [1, 3]: [ 2 12]\n"
     ]
    }
   ],
   "source": [
    "# Integer array indexing\n",
    "indices = np.array([0, 2])\n",
    "print(\"Using integer array indexing:\", arr[indices])\n",
    "\n",
    "# Multiple index arrays\n",
    "row_indices = np.array([0, 2])\n",
    "col_indices = np.array([1, 3])\n",
    "print(\"Fancy indexing [0, 2], [1, 3]:\", arr[row_indices, col_indices])"
   ]
  },
  {
   "cell_type": "code",
   "execution_count": 8,
   "id": "71bfb67b",
   "metadata": {},
   "outputs": [
    {
     "name": "stdout",
     "output_type": "stream",
     "text": [
      "3D array:\n",
      " [[[1 2]\n",
      "  [3 4]]\n",
      "\n",
      " [[5 6]\n",
      "  [7 8]]]\n",
      "Shape: (2, 2, 2)\n",
      "Element at [0, 1, 0]: 3\n",
      "First 2D slice:\n",
      " [[1 2]\n",
      " [3 4]]\n",
      "First row of first 2D slice: [1 2]\n"
     ]
    }
   ],
   "source": [
    "# Create a 3D array\n",
    "arr_3d = np.array([[[1, 2], [3, 4]], [[5, 6], [7, 8]]])\n",
    "print(\"3D array:\\n\", arr_3d)\n",
    "print(\"Shape:\", arr_3d.shape)\n",
    "\n",
    "# Indexing in 3D\n",
    "print(\"Element at [0, 1, 0]:\", arr_3d[0, 1, 0])\n",
    "print(\"First 2D slice:\\n\", arr_3d[0])\n",
    "print(\"First row of first 2D slice:\", arr_3d[0, 0])"
   ]
  },
  {
   "cell_type": "code",
   "execution_count": 9,
   "id": "4d562a9d",
   "metadata": {},
   "outputs": [
    {
     "name": "stdout",
     "output_type": "stream",
     "text": [
      "Original: [1 2 3 4 5]\n",
      "View: [2 3 4]\n",
      "After modifying view - Original: [  1 999   3   4   5]\n",
      "After modifying view - View: [999   3   4]\n",
      "\n",
      "Copy: [2 3 4]\n",
      "After modifying copy - Original: [1 2 3 4 5]\n",
      "After modifying copy - Copy: [999   3   4]\n"
     ]
    }
   ],
   "source": [
    "# Create original array\n",
    "original = np.array([1, 2, 3, 4, 5])\n",
    "print(\"Original:\", original)\n",
    "\n",
    "# View (no copy)\n",
    "view = original[1:4]\n",
    "print(\"View:\", view)\n",
    "view[0] = 999\n",
    "print(\"After modifying view - Original:\", original)\n",
    "print(\"After modifying view - View:\", view)\n",
    "\n",
    "# Copy\n",
    "original = np.array([1, 2, 3, 4, 5])\n",
    "copy = original[1:4].copy()\n",
    "print(\"\\nCopy:\", copy)\n",
    "copy[0] = 999\n",
    "print(\"After modifying copy - Original:\", original)\n",
    "print(\"After modifying copy - Copy:\", copy)"
   ]
  },
  {
   "cell_type": "code",
   "execution_count": 10,
   "id": "a29b594f",
   "metadata": {},
   "outputs": [
    {
     "name": "stdout",
     "output_type": "stream",
     "text": [
      "4D array shape: (2, 3, 4, 5)\n"
     ]
    }
   ],
   "source": [
    "# Create a 4D array\n",
    "arr_4d = np.random.randn(2, 3, 4, 5)\n",
    "print(\"4D array shape:\", arr_4d.shape)"
   ]
  },
  {
   "cell_type": "code",
   "execution_count": 11,
   "id": "8e8bf0ed",
   "metadata": {},
   "outputs": [
    {
     "name": "stdout",
     "output_type": "stream",
     "text": [
      "First element of each 3D slice: [[ 0.24987848  0.42443327 -0.05002462 -0.35135772]\n",
      " [ 1.20961517  1.07245071  0.91709359  0.10104538]\n",
      " [ 0.92428827  0.42661883  0.72542831 -0.06231494]]\n",
      "Last element of each 3D slice: [[ 1.03010637 -0.23287646  0.54003083 -1.41057658]\n",
      " [-1.4449882  -1.06575491  0.45636459 -0.20285843]\n",
      " [-0.60365854 -1.0551453   0.30944174  0.70773091]]\n"
     ]
    }
   ],
   "source": [
    "# Using ellipsis\n",
    "print(\"First element of each 3D slice:\", arr_4d[0, ..., 0])\n",
    "print(\"Last element of each 3D slice:\", arr_4d[-1, ..., -1])"
   ]
  },
  {
   "cell_type": "code",
   "execution_count": 12,
   "id": "2b5e612d",
   "metadata": {},
   "outputs": [
    {
     "name": "stdout",
     "output_type": "stream",
     "text": [
      "Example 1: Image processing simulation\n",
      "Original image shape: (10, 10)\n",
      "Image center (3x3):\n",
      " [[ 43 102  60]\n",
      " [195 167  38]\n",
      " [ 71 195 197]]\n"
     ]
    }
   ],
   "source": [
    "# Example 1: Image processing simulation\n",
    "print(\"Example 1: Image processing simulation\")\n",
    "image = np.random.randint(0, 256, (10, 10))\n",
    "print(\"Original image shape:\", image.shape)\n",
    "print(\"Image center (3x3):\\n\", image[3:6, 3:6])"
   ]
  },
  {
   "cell_type": "code",
   "execution_count": 13,
   "id": "2c65e45d",
   "metadata": {},
   "outputs": [
    {
     "name": "stdout",
     "output_type": "stream",
     "text": [
      "Image border:\n",
      " [[191 183 217  71 241 187  85 102 131   6]\n",
      " [100   0   0   0   0   0   0   0   0   1]\n",
      " [192   0   0   0   0   0   0   0   0   6]\n",
      " [165   0   0   0   0   0   0   0   0 220]\n",
      " [ 75   0   0   0   0   0   0   0   0 248]\n",
      " [ 26   0   0   0   0   0   0   0   0 155]\n",
      " [141   0   0   0   0   0   0   0   0  85]\n",
      " [166   0   0   0   0   0   0   0   0 249]\n",
      " [ 96   0   0   0   0   0   0   0   0  34]\n",
      " [ 63 131  92 137 254 243 122  65 227  85]]\n"
     ]
    }
   ],
   "source": [
    "# Extract border\n",
    "border = np.zeros_like(image)\n",
    "border[0, :] = image[0, :]  # Top border\n",
    "border[-1, :] = image[-1, :]  # Bottom border\n",
    "border[:, 0] = image[:, 0]  # Left border\n",
    "border[:, -1] = image[:, -1]  # Right border\n",
    "print(\"Image border:\\n\", border)"
   ]
  },
  {
   "cell_type": "code",
   "execution_count": 14,
   "id": "dc638eaf",
   "metadata": {},
   "outputs": [
    {
     "name": "stdout",
     "output_type": "stream",
     "text": [
      "\n",
      "Example 2: Data filtering\n",
      "Data shape: (100,)\n",
      "Data range: -2.4613256138411823 to 2.430449681840738\n"
     ]
    }
   ],
   "source": [
    "# Example 2: Data filtering\n",
    "print(\"\\nExample 2: Data filtering\")\n",
    "data = np.random.randn(100)\n",
    "print(\"Data shape:\", data.shape)\n",
    "print(\"Data range:\", data.min(), \"to\", data.max())"
   ]
  },
  {
   "cell_type": "code",
   "execution_count": 16,
   "id": "181c6648",
   "metadata": {},
   "outputs": [
    {
     "name": "stdout",
     "output_type": "stream",
     "text": [
      "mean: 0.21212144687252493\n",
      "std: 0.9461823131782953\n",
      "Outlier mask: [False False False False False False False False False  True False False\n",
      " False False False False False False False False False False False False\n",
      " False False False False False False False False False False False False\n",
      " False False False False False False False False False False False  True\n",
      " False False False False False False False False False False False False\n",
      " False False False False False False False False False False False  True\n",
      " False False False False False False False False False False False False\n",
      " False False False False False False False False False False False  True\n",
      " False False False False]\n",
      "Filtered data: [ 0.88995562  0.92127646 -0.64258537 -0.41423294 -0.18475584 -0.91069839\n",
      " -0.92217393  1.35647246  0.80138213 -0.02381492  1.70845771  0.69524024\n",
      " -0.05291705 -0.448735    1.05116457  1.90254008  0.64376512  1.00014654\n",
      "  0.37897483 -0.09316992 -0.57374871  0.83009533 -0.14584842  0.4033685\n",
      "  0.20544342  0.4263613  -0.62496726  1.0753862   0.36976069  0.38989077\n",
      " -0.88836747  0.28564788 -1.33543926 -0.50360934 -0.04239025  0.78271909\n",
      "  0.31269889 -0.11261946  1.57194216 -1.36214906  0.49299308  0.08219515\n",
      " -1.60330862  0.6588432  -0.04911595  0.68842104  0.79373342  0.70979541\n",
      " -1.271219    1.33105498  0.39553433  0.94616997 -0.92750351  0.30467952\n",
      "  0.69494144  0.11257977  0.77896974  1.07931735  0.56786343  0.17158744\n",
      "  1.20439075 -0.19647921  1.84707684  1.46267023  1.13474125  0.04423298\n",
      " -0.83160896 -0.65520705  0.59177523  0.91528609 -0.5475913   0.8523372\n",
      "  0.50513331  0.65212811  0.17014371 -0.42445219 -1.01986324  0.5285218\n",
      "  0.17892923  1.16631538  1.2687452   0.10790749 -0.31522187  1.69840097\n",
      " -0.52534311 -0.95354314 -0.49054588 -1.21733197 -0.97433887  0.67827183\n",
      "  0.91581255  0.88077304  1.93416507  0.96315815 -1.35336773  0.58949368]\n",
      "Original data size: 100\n",
      "Filtered data size: 96\n",
      "Outliers removed: 4\n"
     ]
    }
   ],
   "source": [
    "# Filter outliers (values beyond 2 standard deviations)\n",
    "mean_val = np.mean(data)\n",
    "std_val = np.std(data)\n",
    "outlier_mask = (data < mean_val - 2 * std_val) | (data > mean_val + 2 * std_val)\n",
    "filtered_data = data[~outlier_mask]\n",
    "print(\"mean:\",mean_val)\n",
    "print(\"std:\",std_val)\n",
    "print(\"Outlier mask:\", outlier_mask)\n",
    "print(\"Filtered data:\", filtered_data)\n",
    "print(\"Original data size:\", len(data))\n",
    "print(\"Filtered data size:\", len(filtered_data))\n",
    "print(\"Outliers removed:\", len(data) - len(filtered_data))"
   ]
  },
  {
   "cell_type": "code",
   "execution_count": 17,
   "id": "89531ea8",
   "metadata": {},
   "outputs": [
    {
     "name": "stdout",
     "output_type": "stream",
     "text": [
      "\n",
      "Example 3: Matrix operations\n",
      "Original matrix:\n",
      " [[ 1  2  3  4]\n",
      " [ 5  6  7  8]\n",
      " [ 9 10 11 12]]\n",
      "Diagonal elements: [ 1  6 11]\n",
      "Upper triangular elements: [ 1  2  3  4  6  7  8 11 12]\n"
     ]
    }
   ],
   "source": [
    "# Example 3: Matrix operations\n",
    "print(\"\\nExample 3: Matrix operations\")\n",
    "matrix = np.array([[1, 2, 3, 4], [5, 6, 7, 8], [9, 10, 11, 12]])\n",
    "print(\"Original matrix:\\n\", matrix)\n",
    "\n",
    "# Extract diagonal elements\n",
    "diagonal = matrix[np.arange(min(matrix.shape)), np.arange(min(matrix.shape))]\n",
    "print(\"Diagonal elements:\", diagonal)\n",
    "\n",
    "# Extract upper triangular elements\n",
    "upper_tri = matrix[np.triu_indices_from(matrix)]\n",
    "print(\"Upper triangular elements:\", upper_tri)"
   ]
  },
  {
   "cell_type": "code",
   "execution_count": 18,
   "id": "257b06d2",
   "metadata": {},
   "outputs": [
    {
     "name": "stdout",
     "output_type": "stream",
     "text": [
      "Pattern 1: Selecting specific rows/columns\n",
      "Original:\n",
      " [[ 1  2  3  4]\n",
      " [ 5  6  7  8]\n",
      " [ 9 10 11 12]]\n",
      "Rows 0 and 2:\n",
      " [[ 1  2  3  4]\n",
      " [ 9 10 11 12]]\n",
      "Columns 1 and 3:\n",
      " [[ 2  4]\n",
      " [ 6  8]\n",
      " [10 12]]\n",
      "\n",
      "Pattern 2: Conditional selection\n",
      "Elements > 6: [ 7  8  9 10 11 12]\n",
      "Even elements: [ 2  4  6  8 10 12]\n",
      "\n",
      "Pattern 3: Reversing arrays\n",
      "Reversed rows:\n",
      " [[ 9 10 11 12]\n",
      " [ 5  6  7  8]\n",
      " [ 1  2  3  4]]\n",
      "Reversed columns:\n",
      " [[ 4  3  2  1]\n",
      " [ 8  7  6  5]\n",
      " [12 11 10  9]]\n"
     ]
    }
   ],
   "source": [
    "# Pattern 1: Selecting specific rows/columns\n",
    "print(\"Pattern 1: Selecting specific rows/columns\")\n",
    "arr = np.array([[1, 2, 3, 4], [5, 6, 7, 8], [9, 10, 11, 12]])\n",
    "print(\"Original:\\n\", arr)\n",
    "print(\"Rows 0 and 2:\\n\", arr[[0, 2]])\n",
    "print(\"Columns 1 and 3:\\n\", arr[:, [1, 3]])\n",
    "\n",
    "# Pattern 2: Conditional selection\n",
    "print(\"\\nPattern 2: Conditional selection\")\n",
    "print(\"Elements > 6:\", arr[arr > 6])\n",
    "print(\"Even elements:\", arr[arr % 2 == 0])\n",
    "\n",
    "# Pattern 3: Reversing arrays\n",
    "print(\"\\nPattern 3: Reversing arrays\")\n",
    "print(\"Reversed rows:\\n\", arr[::-1])\n",
    "print(\"Reversed columns:\\n\", arr[:, ::-1])"
   ]
  }
 ],
 "metadata": {
  "kernelspec": {
   "display_name": ".venv",
   "language": "python",
   "name": "python3"
  },
  "language_info": {
   "codemirror_mode": {
    "name": "ipython",
    "version": 3
   },
   "file_extension": ".py",
   "mimetype": "text/x-python",
   "name": "python",
   "nbconvert_exporter": "python",
   "pygments_lexer": "ipython3",
   "version": "3.12.6"
  }
 },
 "nbformat": 4,
 "nbformat_minor": 5
}
