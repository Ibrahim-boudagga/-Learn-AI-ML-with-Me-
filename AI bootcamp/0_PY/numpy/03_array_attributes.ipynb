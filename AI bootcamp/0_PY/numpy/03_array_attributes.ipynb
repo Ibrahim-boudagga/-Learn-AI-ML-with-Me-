{
 "cells": [
  {
   "cell_type": "markdown",
   "id": "66f63836",
   "metadata": {},
   "source": [
    "# SECTION 3: ARRAY ATTRIBUTES AND PROPERTIES"
   ]
  },
  {
   "cell_type": "code",
   "execution_count": 64,
   "id": "894e25db",
   "metadata": {},
   "outputs": [],
   "source": [
    "import numpy as np"
   ]
  },
  {
   "cell_type": "code",
   "execution_count": 65,
   "id": "690a5cd9",
   "metadata": {},
   "outputs": [
    {
     "name": "stdout",
     "output_type": "stream",
     "text": [
      "Original array:\n",
      " [[1 2 3]\n",
      " [4 5 6]\n",
      " [7 8 9]]\n",
      "Shape: (3, 3)\n",
      "Size (total elements): 9\n",
      "Data type: int64\n",
      "Number of dimensions: 2\n",
      "Memory usage (bytes): 72\n",
      "Item size (bytes per element): 8\n"
     ]
    }
   ],
   "source": [
    "# Create a sample array\n",
    "arr_2d = np.array([[1, 2, 3], [4, 5, 6], [7, 8, 9]])\n",
    "print(\"Original array:\\n\", arr_2d)\n",
    "\n",
    "# Basic attributes\n",
    "print(\"Shape:\", arr_2d.shape)\n",
    "print(\"Size (total elements):\", arr_2d.size)\n",
    "print(\"Data type:\", arr_2d.dtype)\n",
    "print(\"Number of dimensions:\", arr_2d.ndim)\n",
    "print(\"Memory usage (bytes):\", arr_2d.nbytes)\n",
    "print(\"Item size (bytes per element):\", arr_2d.itemsize)"
   ]
  },
  {
   "cell_type": "code",
   "execution_count": 66,
   "id": "393fe447",
   "metadata": {},
   "outputs": [
    {
     "name": "stdout",
     "output_type": "stream",
     "text": [
      "1D array: [1 2 3 4 5]\n",
      "Shape: (5,)\n",
      "Dimensions: 1\n"
     ]
    }
   ],
   "source": [
    "# 1D array\n",
    "arr_1d = np.array([1, 2, 3, 4, 5])\n",
    "print(\"1D array:\", arr_1d)\n",
    "print(\"Shape:\", arr_1d.shape)\n",
    "print(\"Dimensions:\", arr_1d.ndim)"
   ]
  },
  {
   "cell_type": "code",
   "execution_count": 67,
   "id": "b9a7c0ad",
   "metadata": {},
   "outputs": [
    {
     "name": "stdout",
     "output_type": "stream",
     "text": [
      "\n",
      "2D array:\n",
      " [[1 2 3]\n",
      " [4 5 6]]\n",
      "Shape: (2, 3)\n",
      "Dimensions: 2\n"
     ]
    }
   ],
   "source": [
    "# 2D array\n",
    "arr_2d = np.array([[1, 2, 3], [4, 5, 6]])\n",
    "print(\"\\n2D array:\\n\", arr_2d)\n",
    "print(\"Shape:\", arr_2d.shape)\n",
    "print(\"Dimensions:\", arr_2d.ndim)"
   ]
  },
  {
   "cell_type": "code",
   "execution_count": 68,
   "id": "5a5bbdf8",
   "metadata": {},
   "outputs": [
    {
     "name": "stdout",
     "output_type": "stream",
     "text": [
      "\n",
      "3D array:\n",
      " [[[1 2]\n",
      "  [3 4]]\n",
      "\n",
      " [[5 6]\n",
      "  [7 8]]]\n",
      "Shape: (2, 2, 2)\n",
      "Dimensions: 3\n"
     ]
    }
   ],
   "source": [
    "# 3D array\n",
    "arr_3d = np.array([[[1, 2], [3, 4]], [[5, 6], [7, 8]]])\n",
    "print(\"\\n3D array:\\n\", arr_3d)\n",
    "print(\"Shape:\", arr_3d.shape)\n",
    "print(\"Dimensions:\", arr_3d.ndim)"
   ]
  },
  {
   "cell_type": "code",
   "execution_count": 69,
   "id": "800baadf",
   "metadata": {},
   "outputs": [
    {
     "name": "stdout",
     "output_type": "stream",
     "text": [
      "Integer array: [1 2 3]\n",
      "Data type: int32\n",
      "Memory usage: 12 bytes\n"
     ]
    }
   ],
   "source": [
    "# Different data types\n",
    "int_array = np.array([1, 2, 3], dtype=np.int32)\n",
    "\n",
    "print(\"Integer array:\", int_array)\n",
    "print(\"Data type:\", int_array.dtype)\n",
    "print(\"Memory usage:\", int_array.nbytes, \"bytes\")\n"
   ]
  },
  {
   "cell_type": "code",
   "execution_count": 70,
   "id": "860daa05",
   "metadata": {},
   "outputs": [
    {
     "name": "stdout",
     "output_type": "stream",
     "text": [
      "\n",
      "Float array: [1.1 2.2 3.3]\n",
      "Data type: float64\n",
      "Memory usage: 24 bytes\n"
     ]
    }
   ],
   "source": [
    "float_array = np.array([1.1, 2.2, 3.3], dtype=np.float64)\n",
    "print(\"\\nFloat array:\", float_array)\n",
    "print(\"Data type:\", float_array.dtype)\n",
    "print(\"Memory usage:\", float_array.nbytes, \"bytes\")"
   ]
  },
  {
   "cell_type": "code",
   "execution_count": 71,
   "id": "3f52876a",
   "metadata": {},
   "outputs": [
    {
     "name": "stdout",
     "output_type": "stream",
     "text": [
      "\n",
      "Boolean array: [ True False  True]\n",
      "Data type: bool\n",
      "Memory usage: 3 bytes\n"
     ]
    }
   ],
   "source": [
    "bool_array = np.array([True, False, True], dtype=np.bool_)\n",
    "\n",
    "print(\"\\nBoolean array:\", bool_array)\n",
    "print(\"Data type:\", bool_array.dtype)\n",
    "print(\"Memory usage:\", bool_array.nbytes, \"bytes\")"
   ]
  },
  {
   "cell_type": "code",
   "execution_count": 72,
   "id": "983a87e2",
   "metadata": {},
   "outputs": [
    {
     "name": "stdout",
     "output_type": "stream",
     "text": [
      "\n",
      "String array: ['a' 'b' 'c']\n",
      "Data type: <U1\n",
      "Memory usage: 12 bytes\n"
     ]
    }
   ],
   "source": [
    "string_array = np.array([\"a\", \"b\", \"c\"], dtype=np.str_)\n",
    "\n",
    "print(\"\\nString array:\", string_array)\n",
    "print(\"Data type:\", string_array.dtype)\n",
    "print(\"Memory usage:\", string_array.nbytes, \"bytes\")"
   ]
  },
  {
   "cell_type": "markdown",
   "id": "4d7f6fa7",
   "metadata": {},
   "source": [
    " Memory layout attributes"
   ]
  },
  {
   "cell_type": "code",
   "execution_count": 73,
   "id": "51e701f1",
   "metadata": {},
   "outputs": [
    {
     "name": "stdout",
     "output_type": "stream",
     "text": [
      "Array:\n",
      " [[1 2 3]\n",
      " [4 5 6]]\n",
      "Flags:   C_CONTIGUOUS : True\n",
      "  F_CONTIGUOUS : False\n",
      "  OWNDATA : True\n",
      "  WRITEABLE : True\n",
      "  ALIGNED : True\n",
      "  WRITEBACKIFCOPY : False\n",
      "\n",
      "C-contiguous: True\n",
      "F-contiguous: False\n",
      "Memory layout: C\n"
     ]
    }
   ],
   "source": [
    "arr = np.array([[1, 2, 3], [4, 5, 6]])\n",
    "print(\"Array:\\n\", arr)\n",
    "print(\"Flags:\", arr.flags)\n",
    "print(\"C-contiguous:\", arr.flags[\"C_CONTIGUOUS\"])\n",
    "print(\"F-contiguous:\", arr.flags[\"F_CONTIGUOUS\"])\n",
    "print(\"Memory layout:\", arr.flags[\"F_CONTIGUOUS\"] and \"F\" or \"C\")"
   ]
  },
  {
   "cell_type": "markdown",
   "id": "5a8abb46",
   "metadata": {},
   "source": [
    " Memory efficiency comparison"
   ]
  },
  {
   "cell_type": "code",
   "execution_count": 74,
   "id": "f4f9edd1",
   "metadata": {},
   "outputs": [
    {
     "name": "stdout",
     "output_type": "stream",
     "text": [
      "\n",
      "Memory usage comparison for 1000x1000 arrays:\n",
      "int32: 4,000,000 bytes\n",
      "int64: 8,000,000 bytes\n",
      "float32: 4,000,000 bytes\n",
      "float64: 8,000,000 bytes\n"
     ]
    }
   ],
   "source": [
    "large_array_int32 = np.zeros((1000, 1000), dtype=np.int32)\n",
    "large_array_int64 = np.zeros((1000, 1000), dtype=np.int64)\n",
    "large_array_float32 = np.zeros((1000, 1000), dtype=np.float32)\n",
    "large_array_float64 = np.zeros((1000, 1000), dtype=np.float64)\n",
    "\n",
    "print(f\"\\nMemory usage comparison for 1000x1000 arrays:\")\n",
    "print(f\"int32: {large_array_int32.nbytes:,} bytes\")\n",
    "print(f\"int64: {large_array_int64.nbytes:,} bytes\")\n",
    "print(f\"float32: {large_array_float32.nbytes:,} bytes\")\n",
    "print(f\"float64: {large_array_float64.nbytes:,} bytes\")"
   ]
  },
  {
   "cell_type": "markdown",
   "id": "72eb0328",
   "metadata": {},
   "source": []
  },
  {
   "cell_type": "code",
   "execution_count": 75,
   "id": "efa04ee1",
   "metadata": {},
   "outputs": [
    {
     "name": "stdout",
     "output_type": "stream",
     "text": [
      "Array: [1 2 3 4 5]\n",
      "All positive: True\n",
      "Any positive: True\n",
      "All finite: True\n"
     ]
    }
   ],
   "source": [
    "arr_positive = np.array([1, 2, 3, 4, 5])\n",
    "print(\"Array:\", arr_positive)\n",
    "print(\"All positive:\", np.all(arr_positive > 0))\n",
    "print(\"Any positive:\", np.any(arr_positive > 0))\n",
    "print(\"All finite:\", np.all(np.isfinite(arr_positive)))"
   ]
  },
  {
   "cell_type": "code",
   "execution_count": 76,
   "id": "70baea9b",
   "metadata": {},
   "outputs": [
    {
     "name": "stdout",
     "output_type": "stream",
     "text": [
      "Array: [-1  0  1 -2  3]\n",
      "All positive: True\n",
      "Any positive: True\n",
      "All finite: True\n"
     ]
    }
   ],
   "source": [
    "arr_mixed = np.array([-1, 0, 1, -2, 3])\n",
    "\n",
    "print(\"Array:\", arr_mixed)\n",
    "print(\"All positive:\", np.all(arr_positive > 0))\n",
    "print(\"Any positive:\", np.any(arr_positive > 0))\n",
    "print(\"All finite:\", np.all(np.isfinite(arr_positive)))"
   ]
  },
  {
   "cell_type": "code",
   "execution_count": 77,
   "id": "a7d48403",
   "metadata": {},
   "outputs": [
    {
     "name": "stdout",
     "output_type": "stream",
     "text": [
      "Array: [0 0 0 0 0]\n",
      "All zero: True\n",
      "Any zero: True\n"
     ]
    }
   ],
   "source": [
    "arr_zeros = np.array([0, 0, 0, 0, 0])\n",
    "\n",
    "print(\"Array:\", arr_zeros)\n",
    "print(\"All zero:\", np.all(arr_zeros == 0))\n",
    "print(\"Any zero:\", np.any(arr_zeros == 0))"
   ]
  },
  {
   "cell_type": "code",
   "execution_count": 78,
   "id": "93b63e35",
   "metadata": {},
   "outputs": [
    {
     "name": "stdout",
     "output_type": "stream",
     "text": [
      "Array: [1 2 3 4 5]\n",
      "Metadata: {'description': 'Sample array', 'units': 'meters'}\n"
     ]
    }
   ],
   "source": [
    "# NumPy arrays don't have a built-in metadata attribute\n",
    "# We can create a custom class to store metadata alongside the array\n",
    "class ArrayWithMetadata:\n",
    "    def __init__(self, array, metadata=None):\n",
    "        self.array = array\n",
    "        self.metadata = metadata or {}\n",
    "\n",
    "arr_data = np.array([1, 2, 3, 4, 5])\n",
    "metadata = {\"description\": \"Sample array\", \"units\": \"meters\"}\n",
    "arr_with_metadata = ArrayWithMetadata(arr_data, metadata)\n",
    "\n",
    "print(\"Array:\", arr_with_metadata.array)\n",
    "print(\"Metadata:\", arr_with_metadata.metadata)"
   ]
  },
  {
   "cell_type": "markdown",
   "id": "2b55de38",
   "metadata": {},
   "source": [
    "# ARRAY VIEWS AND COPIES"
   ]
  },
  {
   "cell_type": "code",
   "execution_count": 79,
   "id": "e3c50a75",
   "metadata": {},
   "outputs": [
    {
     "name": "stdout",
     "output_type": "stream",
     "text": [
      "Original: [1 2 3 4 5]\n",
      "Base: None\n"
     ]
    }
   ],
   "source": [
    "original = np.array([1, 2, 3, 4, 5])\n",
    "print(\"Original:\", original)\n",
    "print(\"Base:\", original.base)  # None for original array"
   ]
  },
  {
   "cell_type": "code",
   "execution_count": 80,
   "id": "0462b1cf",
   "metadata": {},
   "outputs": [
    {
     "name": "stdout",
     "output_type": "stream",
     "text": [
      "\n",
      "View: [2 3 4]\n",
      "View base: [1 2 3 4 5]\n",
      "View is original: True\n"
     ]
    }
   ],
   "source": [
    "view = original[1:4]\n",
    "print(\"\\nView:\", view)\n",
    "print(\"View base:\", view.base)  # Points to original\n",
    "print(\"View is original:\", view.base is original)"
   ]
  },
  {
   "cell_type": "code",
   "execution_count": 81,
   "id": "e36cd97a",
   "metadata": {},
   "outputs": [
    {
     "name": "stdout",
     "output_type": "stream",
     "text": [
      "\n",
      "Copy: [2 3 4]\n",
      "Copy base: None\n",
      "Copy is original: False\n"
     ]
    }
   ],
   "source": [
    "copy = original[1:4].copy()\n",
    "print(\"\\nCopy:\", copy)\n",
    "print(\"Copy base:\", copy.base)  # None for copy\n",
    "print(\"Copy is original:\", copy.base is original)"
   ]
  },
  {
   "cell_type": "markdown",
   "id": "93be581d",
   "metadata": {},
   "source": [
    "# ARRAY FLAGS AND LAYOUT"
   ]
  },
  {
   "cell_type": "code",
   "execution_count": 82,
   "id": "0bcf2b8f",
   "metadata": {},
   "outputs": [
    {
     "name": "stdout",
     "output_type": "stream",
     "text": [
      "Array:\n",
      " [[1 2 3]\n",
      " [4 5 6]]\n",
      "Flags:\n",
      "  C_CONTIGUOUS: True\n",
      "  F_CONTIGUOUS: False\n",
      "  OWNDATA: True\n",
      "  WRITEABLE: True\n",
      "  ALIGNED: True\n"
     ]
    }
   ],
   "source": [
    "arr = np.array([[1, 2, 3], [4, 5, 6]])\n",
    "print(\"Array:\\n\", arr)\n",
    "print(\"Flags:\")\n",
    "print(\"  C_CONTIGUOUS:\", arr.flags[\"C_CONTIGUOUS\"])\n",
    "print(\"  F_CONTIGUOUS:\", arr.flags[\"F_CONTIGUOUS\"])\n",
    "print(\"  OWNDATA:\", arr.flags[\"OWNDATA\"])\n",
    "print(\"  WRITEABLE:\", arr.flags[\"WRITEABLE\"])\n",
    "print(\"  ALIGNED:\", arr.flags[\"ALIGNED\"])"
   ]
  },
  {
   "cell_type": "markdown",
   "id": "82bbf702",
   "metadata": {},
   "source": [
    "# Example 1: Memory-efficient data processing"
   ]
  },
  {
   "cell_type": "code",
   "execution_count": 83,
   "id": "df645c79",
   "metadata": {},
   "outputs": [
    {
     "name": "stdout",
     "output_type": "stream",
     "text": [
      "Dataset shape: (10000, 100)\n",
      "Memory usage: 8,000,000 bytes\n",
      "Data type: float64\n"
     ]
    }
   ],
   "source": [
    "large_dataset = np.random.randn(10000, 100)\n",
    "print(f\"Dataset shape: {large_dataset.shape}\")\n",
    "print(f\"Memory usage: {large_dataset.nbytes:,} bytes\")\n",
    "print(f\"Data type: {large_dataset.dtype}\")"
   ]
  },
  {
   "cell_type": "code",
   "execution_count": 84,
   "id": "c78611e4",
   "metadata": {},
   "outputs": [
    {
     "name": "stdout",
     "output_type": "stream",
     "text": [
      "After conversion to float32: 4,000,000 bytes\n",
      "Memory saved: 4,000,000 bytes\n"
     ]
    }
   ],
   "source": [
    "# Convert to smaller data type for memory efficiency\n",
    "large_dataset_float32 = large_dataset.astype(np.float32)\n",
    "print(f\"After conversion to float32: {large_dataset_float32.nbytes:,} bytes\")\n",
    "print(f\"Memory saved: {large_dataset.nbytes - large_dataset_float32.nbytes:,} bytes\")"
   ]
  },
  {
   "cell_type": "markdown",
   "id": "2669af61",
   "metadata": {},
   "source": [
    "# Example 2: Array validation"
   ]
  },
  {
   "cell_type": "code",
   "execution_count": 85,
   "id": "d8fbb190",
   "metadata": {},
   "outputs": [
    {
     "name": "stdout",
     "output_type": "stream",
     "text": [
      "Array shape: (5,)\n",
      "Data type: float64\n",
      "Memory usage: 40 bytes\n",
      "Has NaN: True\n",
      "Has infinite values: False\n",
      "Is contiguous: True\n"
     ]
    }
   ],
   "source": [
    "def validate_array(arr):\n",
    "    print(f\"Array shape: {arr.shape}\")\n",
    "    print(f\"Data type: {arr.dtype}\")\n",
    "    print(f\"Memory usage: {arr.nbytes:,} bytes\")\n",
    "    print(f\"Has NaN: {np.any(np.isnan(arr))}\")\n",
    "    print(f\"Has infinite values: {np.any(np.isinf(arr))}\")\n",
    "    print(f\"Is contiguous: {arr.flags['C_CONTIGUOUS']}\")\n",
    "\n",
    "\n",
    "sample_array = np.array([1, 2, 3, np.nan, 5])\n",
    "validate_array(sample_array)"
   ]
  },
  {
   "cell_type": "markdown",
   "id": "79671288",
   "metadata": {},
   "source": [
    "# Example 3: Performance considerations"
   ]
  },
  {
   "cell_type": "code",
   "execution_count": 86,
   "id": "bfb09406",
   "metadata": {},
   "outputs": [
    {
     "name": "stdout",
     "output_type": "stream",
     "text": [
      "C-contiguous array:\n",
      "  Flags:   C_CONTIGUOUS : True\n",
      "  F_CONTIGUOUS : False\n",
      "  OWNDATA : True\n",
      "  WRITEABLE : True\n",
      "  ALIGNED : True\n",
      "  WRITEBACKIFCOPY : False\n",
      "\n",
      "  Layout: C\n",
      "F-contiguous array:\n",
      "  Flags:   C_CONTIGUOUS : False\n",
      "  F_CONTIGUOUS : True\n",
      "  OWNDATA : True\n",
      "  WRITEABLE : True\n",
      "  ALIGNED : True\n",
      "  WRITEBACKIFCOPY : False\n",
      "\n",
      "  Layout: F\n"
     ]
    }
   ],
   "source": [
    "# Create arrays with different memory layouts\n",
    "arr_c = np.array([[1, 2, 3], [4, 5, 6]], order=\"C\")  # C-contiguous\n",
    "arr_f = np.array([[1, 2, 3], [4, 5, 6]], order=\"F\")  # F-contiguous\n",
    "# the difference between the two is that the C-contiguous array is stored in a row-major order, \n",
    "# while the F-contiguous array is stored in a column-major order.\n",
    "print(\"C-contiguous array:\")\n",
    "print(\"  Flags:\", arr_c.flags)\n",
    "print(\"  Layout:\", \"C\" if arr_c.flags[\"C_CONTIGUOUS\"] else \"F\")\n",
    "\n",
    "print(\"F-contiguous array:\")\n",
    "print(\"  Flags:\", arr_f.flags)\n",
    "print(\"  Layout:\", \"C\" if arr_f.flags[\"C_CONTIGUOUS\"] else \"F\")"
   ]
  }
 ],
 "metadata": {
  "kernelspec": {
   "display_name": ".venv",
   "language": "python",
   "name": "python3"
  },
  "language_info": {
   "codemirror_mode": {
    "name": "ipython",
    "version": 3
   },
   "file_extension": ".py",
   "mimetype": "text/x-python",
   "name": "python",
   "nbconvert_exporter": "python",
   "pygments_lexer": "ipython3",
   "version": "3.12.6"
  }
 },
 "nbformat": 4,
 "nbformat_minor": 5
}
