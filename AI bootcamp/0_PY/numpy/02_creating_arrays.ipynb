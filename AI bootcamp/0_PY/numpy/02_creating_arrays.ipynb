{
 "cells": [
  {
   "cell_type": "markdown",
   "id": "b5f0b4fd",
   "metadata": {},
   "source": [
    "# SECTION 2: CREATING ARRAYS - THE FOUNDATION\n"
   ]
  },
  {
   "cell_type": "markdown",
   "id": "3d602435",
   "metadata": {},
   "source": [
    "## Basic list to array conversion"
   ]
  },
  {
   "cell_type": "code",
   "execution_count": 128,
   "id": "0554f3e4",
   "metadata": {},
   "outputs": [],
   "source": [
    "import numpy as np"
   ]
  },
  {
   "cell_type": "code",
   "execution_count": 129,
   "id": "1702f38d",
   "metadata": {},
   "outputs": [
    {
     "name": "stdout",
     "output_type": "stream",
     "text": [
      "From list: [1 2 3 4 5]\n",
      "Type: <class 'numpy.ndarray'>\n",
      "Shape: (5,)\n",
      "Data type: int64\n"
     ]
    }
   ],
   "source": [
    "list_data = [1, 2, 3, 4, 5]\n",
    "array_from_list = np.array(list_data)\n",
    "print(\"From list:\", array_from_list)\n",
    "print(\"Type:\", type(array_from_list))\n",
    "print(\"Shape:\", array_from_list.shape)\n",
    "print(\"Data type:\", array_from_list.dtype)"
   ]
  },
  {
   "cell_type": "code",
   "execution_count": 130,
   "id": "161ad891",
   "metadata": {},
   "outputs": [
    {
     "name": "stdout",
     "output_type": "stream",
     "text": [
      "\n",
      "2D array:\n",
      " [[1 2 3]\n",
      " [4 5 6]\n",
      " [7 8 9]]\n",
      "Shape: (3, 3)\n"
     ]
    }
   ],
   "source": [
    "# 2D list to array\n",
    "list_2d = [[1, 2, 3], [4, 5, 6], [7, 8, 9]]\n",
    "array_2d = np.array(list_2d)\n",
    "print(\"\\n2D array:\\n\", array_2d)\n",
    "print(\"Shape:\", array_2d.shape)"
   ]
  },
  {
   "cell_type": "markdown",
   "id": "22ef7c07",
   "metadata": {},
   "source": [
    "## 2. CREATING ARRAYS WITH SPECIFIC DATA TYPES"
   ]
  },
  {
   "cell_type": "markdown",
   "id": "4bd743bc",
   "metadata": {},
   "source": [
    "Float array"
   ]
  },
  {
   "cell_type": "code",
   "execution_count": 131,
   "id": "b68420ee",
   "metadata": {},
   "outputs": [
    {
     "name": "stdout",
     "output_type": "stream",
     "text": [
      "Float array: [1. 2. 3. 4.]\n",
      "Data type: float64\n"
     ]
    }
   ],
   "source": [
    "# Float array\n",
    "float_array = np.array([1, 2, 3, 4], dtype=np.float64)\n",
    "print(\"Float array:\", float_array)\n",
    "print(\"Data type:\", float_array.dtype)"
   ]
  },
  {
   "cell_type": "markdown",
   "id": "83701315",
   "metadata": {},
   "source": [
    "Integer array"
   ]
  },
  {
   "cell_type": "code",
   "execution_count": 132,
   "id": "9feb94d6",
   "metadata": {},
   "outputs": [
    {
     "name": "stdout",
     "output_type": "stream",
     "text": [
      "Int array: [1 2 3]\n",
      "Data type: int32\n"
     ]
    }
   ],
   "source": [
    "int_array = np.array([1.1, 2.2, 3.3], dtype=np.int32)\n",
    "print(\"Int array:\", int_array)\n",
    "print(\"Data type:\", int_array.dtype)"
   ]
  },
  {
   "cell_type": "markdown",
   "id": "bfbf8565",
   "metadata": {},
   "source": [
    "Complex array"
   ]
  },
  {
   "cell_type": "code",
   "execution_count": 133,
   "id": "9e459727",
   "metadata": {},
   "outputs": [
    {
     "name": "stdout",
     "output_type": "stream",
     "text": [
      "Complex array: [1.+2.j 3.+4.j 5.+6.j]\n",
      "Data type: complex128\n"
     ]
    }
   ],
   "source": [
    "complex_array = np.array([1 + 2j, 3 + 4j, 5 + 6j])\n",
    "print(\"Complex array:\", complex_array)\n",
    "print(\"Data type:\", complex_array.dtype)"
   ]
  },
  {
   "cell_type": "markdown",
   "id": "603e1069",
   "metadata": {},
   "source": [
    "# 3. CREATING ARRAYS WITH BUILT-IN FUNCTIONS\n"
   ]
  },
  {
   "cell_type": "code",
   "execution_count": 134,
   "id": "910b29d3",
   "metadata": {},
   "outputs": [
    {
     "name": "stdout",
     "output_type": "stream",
     "text": [
      "Zeros: [0. 0. 0. 0. 0.]\n",
      "Ones shape (3,4):\n",
      " [[1. 1. 1. 1.]\n",
      " [1. 1. 1. 1.]\n",
      " [1. 1. 1. 1.]]\n",
      "Empty shape (2,3):\n",
      " [[1. 2. 3.]\n",
      " [4. 5. 6.]]\n",
      "Full array with value 7:\n",
      " [[7 7]\n",
      " [7 7]]\n"
     ]
    }
   ],
   "source": [
    "# Zeros array\n",
    "zeros_array = np.zeros(5)\n",
    "print(\"Zeros:\", zeros_array)\n",
    "\n",
    "# Ones array\n",
    "ones_array = np.ones((3, 4))\n",
    "print(\"Ones shape (3,4):\\n\", ones_array)\n",
    "\n",
    "# Empty array (uninitialized memory)\n",
    "empty_array = np.empty((2, 3))\n",
    "print(\"Empty shape (2,3):\\n\", empty_array)\n",
    "\n",
    "# Full array (fill with specific value)\n",
    "full_array = np.full((2, 2), 7)\n",
    "print(\"Full array with value 7:\\n\", full_array)"
   ]
  },
  {
   "cell_type": "markdown",
   "id": "d00e63d9",
   "metadata": {},
   "source": [
    "# 4. CREATING ARRAYS WITH ARANGE AND LINSPACE"
   ]
  },
  {
   "cell_type": "markdown",
   "id": "5e02ac7c",
   "metadata": {},
   "source": [
    "### arange - similar to range() but returns array"
   ]
  },
  {
   "cell_type": "code",
   "execution_count": 135,
   "id": "ac2d3d72",
   "metadata": {},
   "outputs": [
    {
     "data": {
      "text/plain": [
       "array([0, 2, 4, 6, 8])"
      ]
     },
     "execution_count": 135,
     "metadata": {},
     "output_type": "execute_result"
    }
   ],
   "source": [
    "range_array = np.arange(0, 10, 2)  # start, stop, step\n",
    "range_array"
   ]
  },
  {
   "cell_type": "markdown",
   "id": "a6697a51",
   "metadata": {},
   "source": [
    "### linspace - creates evenly spaced numbers"
   ]
  },
  {
   "cell_type": "code",
   "execution_count": 136,
   "id": "e39d44c7",
   "metadata": {},
   "outputs": [
    {
     "data": {
      "text/plain": [
       "array([0.  , 0.25, 0.5 , 0.75, 1.  ])"
      ]
     },
     "execution_count": 136,
     "metadata": {},
     "output_type": "execute_result"
    }
   ],
   "source": [
    "linspace_array = np.linspace(0, 1, 5)  # start, stop, num_points\n",
    "linspace_array"
   ]
  },
  {
   "cell_type": "markdown",
   "id": "1636a089",
   "metadata": {},
   "source": [
    "### logspace - creates logarithmically spaced numbers"
   ]
  },
  {
   "cell_type": "code",
   "execution_count": 137,
   "id": "e741f26b",
   "metadata": {},
   "outputs": [
    {
     "data": {
      "text/plain": [
       "array([   1.,   10.,  100., 1000.])"
      ]
     },
     "execution_count": 137,
     "metadata": {},
     "output_type": "execute_result"
    }
   ],
   "source": [
    "logspace_array = np.logspace(0, 3, 4)  # 10^0 to 10^3, 4 points\n",
    "logspace_array"
   ]
  },
  {
   "cell_type": "markdown",
   "id": "a261ed89",
   "metadata": {},
   "source": [
    "# 5. CREATING IDENTITY AND DIAGONAL MATRICES"
   ]
  },
  {
   "cell_type": "code",
   "execution_count": 138,
   "id": "3a592a83",
   "metadata": {},
   "outputs": [
    {
     "name": "stdout",
     "output_type": "stream",
     "text": [
      "Identity matrix:\n",
      " [[1. 0. 0.]\n",
      " [0. 1. 0.]\n",
      " [0. 0. 1.]]\n",
      "Diagonal matrix:\n",
      " [[1 0 0 0]\n",
      " [0 2 0 0]\n",
      " [0 0 3 0]\n",
      " [0 0 0 4]]\n"
     ]
    }
   ],
   "source": [
    "# Identity matrix\n",
    "identity_matrix = np.eye(3)\n",
    "print(\"Identity matrix:\\n\", identity_matrix)\n",
    "\n",
    "# Diagonal matrix\n",
    "diagonal_matrix = np.diag([1, 2, 3, 4])\n",
    "print(\"Diagonal matrix:\\n\", diagonal_matrix)"
   ]
  },
  {
   "cell_type": "markdown",
   "id": "068b6e24",
   "metadata": {},
   "source": [
    "# 6. CREATING RANDOM ARRAYS"
   ]
  },
  {
   "cell_type": "markdown",
   "id": "cf3592a8",
   "metadata": {},
   "source": [
    "Set seed for reproducibility for random numbers generation\n",
    "if you set the seed to 42, you will get the same random numbers every time you run the code.\n",
    "if you don't set the seed, you will get different random numbers every time you run the code.\n",
    "\n"
   ]
  },
  {
   "cell_type": "code",
   "execution_count": 139,
   "id": "9ccdb65d",
   "metadata": {},
   "outputs": [
    {
     "name": "stdout",
     "output_type": "stream",
     "text": [
      "Random integers (1-10): [7 4 8 5 7]\n",
      "Random floats (0-1): [0.44583275 0.09997492 0.45924889 0.33370861 0.14286682]\n",
      "Random normal distribution: [-0.4826188   0.16416482  0.23309524  0.11799461  1.46237812]\n"
     ]
    }
   ],
   "source": [
    "x=np.random.seed(42)\n",
    "\n",
    "# Random integers\n",
    "random_ints = np.random.randint(1, 11, 5)\n",
    "print(\"Random integers (1-10):\", random_ints)\n",
    "\n",
    "# Random floats\n",
    "random_floats = np.random.random(5)\n",
    "print(\"Random floats (0-1):\", random_floats)\n",
    "\n",
    "# Random normal distribution\n",
    "random_normal = np.random.normal(0, 1, 5)\n",
    "print(\"Random normal distribution:\", random_normal)"
   ]
  },
  {
   "cell_type": "markdown",
   "id": "3574f7ba",
   "metadata": {},
   "source": [
    "# 7. CREATING ARRAYS WITH MESHGRID"
   ]
  },
  {
   "cell_type": "code",
   "execution_count": 140,
   "id": "1ad140a7",
   "metadata": {},
   "outputs": [
    {
     "name": "stdout",
     "output_type": "stream",
     "text": [
      "X grid:\n",
      " [[0. 1. 2.]\n",
      " [0. 1. 2.]\n",
      " [0. 1. 2.]]\n",
      "Y grid:\n",
      " [[0. 0. 0.]\n",
      " [1. 1. 1.]\n",
      " [2. 2. 2.]]\n"
     ]
    }
   ],
   "source": [
    "# Create coordinate grids\n",
    "x = np.linspace(0, 2, 3)\n",
    "y = np.linspace(0, 2, 3)\n",
    "X, Y = np.meshgrid(x, y)\n",
    "print(\"X grid:\\n\", X)\n",
    "print(\"Y grid:\\n\", Y)"
   ]
  },
  {
   "cell_type": "markdown",
   "id": "460fcb56",
   "metadata": {},
   "source": [
    "# 8. CREATING ARRAYS WITH REPEAT AND TILE"
   ]
  },
  {
   "cell_type": "code",
   "execution_count": 141,
   "id": "b3048d6a",
   "metadata": {},
   "outputs": [
    {
     "name": "stdout",
     "output_type": "stream",
     "text": [
      "Repeat [1,2,3] 3 times: [1 1 1 2 2 2 3 3 3]\n",
      "Tile [1,2] 3 times: [1 2 1 2 1 2]\n"
     ]
    }
   ],
   "source": [
    "# Repeat elements\n",
    "repeat_array = np.repeat([1, 2, 3], 3)\n",
    "print(\"Repeat [1,2,3] 3 times:\", repeat_array)\n",
    "\n",
    "# Tile arrays\n",
    "tile_array = np.tile([1, 2], 3)\n",
    "print(\"Tile [1,2] 3 times:\", tile_array)"
   ]
  },
  {
   "cell_type": "markdown",
   "id": "13b7eb64",
   "metadata": {},
   "source": [
    "# 9. CREATING ARRAYS WITH FROMFUNCTION"
   ]
  },
  {
   "cell_type": "code",
   "execution_count": 142,
   "id": "fd9bfcc0",
   "metadata": {},
   "outputs": [
    {
     "data": {
      "text/plain": [
       "array([[0., 1., 2., 3.],\n",
       "       [1., 2., 3., 4.]])"
      ]
     },
     "execution_count": 142,
     "metadata": {},
     "output_type": "execute_result"
    }
   ],
   "source": [
    "def create_value(i, j):\n",
    "    return i + j\n",
    "\n",
    "\n",
    "func_array = np.fromfunction(create_value, (2, 4))\n",
    "func_array"
   ]
  },
  {
   "cell_type": "markdown",
   "id": "26b7b0c9",
   "metadata": {},
   "source": [
    "# 10. PRACTICAL EXAMPLES"
   ]
  },
  {
   "cell_type": "code",
   "execution_count": 143,
   "id": "85fb18d3",
   "metadata": {},
   "outputs": [
    {
     "name": "stdout",
     "output_type": "stream",
     "text": [
      "Feature matrix shape: (100, 5)\n",
      "Time series length: 100\n",
      "Image mask:\n",
      " [[False False False False False False False False False False]\n",
      " [False False False False False False False False False False]\n",
      " [False False  True  True  True  True  True  True False False]\n",
      " [False False  True  True  True  True  True  True False False]\n",
      " [False False  True  True  True  True  True  True False False]\n",
      " [False False  True  True  True  True  True  True False False]\n",
      " [False False  True  True  True  True  True  True False False]\n",
      " [False False  True  True  True  True  True  True False False]\n",
      " [False False False False False False False False False False]\n",
      " [False False False False False False False False False False]]\n"
     ]
    }
   ],
   "source": [
    "# Example 1: Creating a feature matrix for ML\n",
    "features = np.random.randn(100, 5)  # 100 samples, 5 features\n",
    "print(\"Feature matrix shape:\", features.shape)\n",
    "\n",
    "# Example 2: Creating a time series\n",
    "time_points = np.linspace(0, 10, 100)\n",
    "signal = np.sin(time_points)\n",
    "print(\"Time series length:\", len(signal))\n",
    "\n",
    "# Example 3: Creating a mask for image processing\n",
    "image_mask = np.zeros((10, 10), dtype=bool)\n",
    "image_mask[2:8, 2:8] = True\n",
    "print(\"Image mask:\\n\", image_mask)"
   ]
  },
  {
   "cell_type": "markdown",
   "id": "9db33e6b",
   "metadata": {},
   "source": [
    "\n",
    "# Key Takeaways\n",
    "✓ np.array() converts Python lists to NumPy arrays . \n",
    "\n",
    "✓ Specify dtype for memory efficiency and precision\n",
    "\n",
    "✓ Use built-in functions (zeros, ones, empty) for common patterns\n",
    "\n",
    "✓ arange() and linspace() create sequences efficiently\n",
    "\n",
    "✓ Random arrays are essential for simulations and ML\n",
    "\n",
    "✓ Choose the right method based on your specific needs\n",
    "\n",
    "# =============================================================================\n",
    "# EXERCISES\n",
    "# =============================================================================\n",
    "\n",
    "1. Create a 5x5 identity matrix\n",
    "2. Create an array of 20 evenly spaced numbers from 0 to 1\n",
    "3. Create a 3x3 array filled with random integers from 1 to 10\n",
    "4. Create a 2D array representing a 5x5 grid with values i+j\n",
    "5. Create an array of 100 random normal numbers with mean=0, std=1\n"
   ]
  }
 ],
 "metadata": {
  "kernelspec": {
   "display_name": ".venv",
   "language": "python",
   "name": "python3"
  },
  "language_info": {
   "codemirror_mode": {
    "name": "ipython",
    "version": 3
   },
   "file_extension": ".py",
   "mimetype": "text/x-python",
   "name": "python",
   "nbconvert_exporter": "python",
   "pygments_lexer": "ipython3",
   "version": "3.12.6"
  }
 },
 "nbformat": 4,
 "nbformat_minor": 5
}
