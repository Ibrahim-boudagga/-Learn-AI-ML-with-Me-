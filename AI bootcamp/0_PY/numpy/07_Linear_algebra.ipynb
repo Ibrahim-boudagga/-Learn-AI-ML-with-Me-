{
 "cells": [
  {
   "cell_type": "code",
   "execution_count": 2,
   "id": "61beb16c",
   "metadata": {},
   "outputs": [],
   "source": [
    "import numpy as np"
   ]
  },
  {
   "cell_type": "code",
   "execution_count": 3,
   "id": "551ddfb9",
   "metadata": {},
   "outputs": [
    {
     "name": "stdout",
     "output_type": "stream",
     "text": [
      "Matrix A:\n",
      " [[1 2]\n",
      " [3 4]]\n",
      "Matrix B:\n",
      " [[5 6]\n",
      " [7 8]]\n"
     ]
    }
   ],
   "source": [
    "A = np.array([[1, 2], [3, 4]])\n",
    "B = np.array([[5, 6], [7, 8]])\n",
    "print(\"Matrix A:\\n\", A)\n",
    "print(\"Matrix B:\\n\", B)"
   ]
  },
  {
   "cell_type": "code",
   "execution_count": 4,
   "id": "b4c8054e",
   "metadata": {},
   "outputs": [
    {
     "name": "stdout",
     "output_type": "stream",
     "text": [
      "Matrix multiplication:\n",
      " [[19 22]\n",
      " [43 50]]\n",
      "Element-wise multiplication:\n",
      " [[ 5 12]\n",
      " [21 32]]\n",
      "Transpose of A:\n",
      " [[1 3]\n",
      " [2 4]]\n",
      "Determinant of A: -2.0000000000000004\n",
      "Inverse of A:\n",
      " [[-2.   1. ]\n",
      " [ 1.5 -0.5]]\n",
      "Eigenvalues of A: [-0.37228132  5.37228132]\n"
     ]
    }
   ],
   "source": [
    "print(\"Matrix multiplication:\\n\", np.dot(A, B))\n",
    "print(\"Element-wise multiplication:\\n\", A * B)\n",
    "print(\"Transpose of A:\\n\", A.T)\n",
    "print(\"Determinant of A:\", np.linalg.det(A))\n",
    "print(\"Inverse of A:\\n\", np.linalg.inv(A))\n",
    "print(\"Eigenvalues of A:\", np.linalg.eigvals(A))"
   ]
  },
  {
   "cell_type": "code",
   "execution_count": null,
   "id": "a2b18ca0",
   "metadata": {},
   "outputs": [
    {
     "name": "stdout",
     "output_type": "stream",
     "text": [
      "Solution to Ax = b: [-4.   4.5]\n"
     ]
    }
   ],
   "source": [
    "# Solving linear equations: Ax = b\n",
    "b = np.array([5, 6])\n",
    "x = np.linalg.solve(A, b)\n",
    "(\"Solution to Ax = b:\", x)"
   ]
  }
 ],
 "metadata": {
  "kernelspec": {
   "display_name": ".venv",
   "language": "python",
   "name": "python3"
  },
  "language_info": {
   "codemirror_mode": {
    "name": "ipython",
    "version": 3
   },
   "file_extension": ".py",
   "mimetype": "text/x-python",
   "name": "python",
   "nbconvert_exporter": "python",
   "pygments_lexer": "ipython3",
   "version": "3.12.6"
  }
 },
 "nbformat": 4,
 "nbformat_minor": 5
}
