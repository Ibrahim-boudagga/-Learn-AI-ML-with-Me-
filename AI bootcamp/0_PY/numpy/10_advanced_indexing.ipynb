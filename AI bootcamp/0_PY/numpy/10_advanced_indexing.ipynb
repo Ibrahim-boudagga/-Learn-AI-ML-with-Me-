{
 "cells": [
  {
   "cell_type": "code",
   "execution_count": 12,
   "id": "bb81b6bd",
   "metadata": {},
   "outputs": [],
   "source": [
    "import numpy as np"
   ]
  },
  {
   "cell_type": "code",
   "execution_count": 13,
   "id": "45f032ec",
   "metadata": {},
   "outputs": [
    {
     "name": "stdout",
     "output_type": "stream",
     "text": [
      "Original array:\n",
      " [[ 1  2  3  4]\n",
      " [ 5  6  7  8]\n",
      " [ 9 10 11 12]]\n"
     ]
    }
   ],
   "source": [
    "arr = np.array([[1, 2, 3, 4], [5, 6, 7, 8], [9, 10, 11, 12]])\n",
    "print(\"Original array:\\n\", arr)"
   ]
  },
  {
   "cell_type": "markdown",
   "id": "3e6aa163",
   "metadata": {},
   "source": [
    "# Integer array indexing"
   ]
  },
  {
   "cell_type": "code",
   "execution_count": 14,
   "id": "efdb82e1",
   "metadata": {},
   "outputs": [
    {
     "name": "stdout",
     "output_type": "stream",
     "text": [
      "Using integer array indexing: \n",
      " [[ 1  2  3  4]\n",
      " [ 9 10 11 12]]\n"
     ]
    }
   ],
   "source": [
    "indices = np.array([0, 2])\n",
    "print(\"Using integer array indexing: \\n\", arr[indices])"
   ]
  },
  {
   "cell_type": "markdown",
   "id": "1370645e",
   "metadata": {},
   "source": [
    "# Boolean array indexing"
   ]
  },
  {
   "cell_type": "code",
   "execution_count": 15,
   "id": "5a071776",
   "metadata": {},
   "outputs": [
    {
     "name": "stdout",
     "output_type": "stream",
     "text": [
      "Boolean mask:\n",
      " [[False False False False]\n",
      " [False  True  True  True]\n",
      " [ True  True  True  True]]\n",
      "Elements > 5: [ 6  7  8  9 10 11 12]\n"
     ]
    }
   ],
   "source": [
    "mask = arr > 5\n",
    "print(\"Boolean mask:\\n\", mask)\n",
    "print(\"Elements > 5:\", arr[mask])"
   ]
  },
  {
   "cell_type": "markdown",
   "id": "9b985b33",
   "metadata": {},
   "source": [
    "# Fancy indexing"
   ]
  },
  {
   "cell_type": "code",
   "execution_count": null,
   "id": "c8ecde98",
   "metadata": {},
   "outputs": [
    {
     "name": "stdout",
     "output_type": "stream",
     "text": [
      "Fancy indexing [0, 2]: [[ 1  2  3  4]\n",
      " [ 9 10 11 12]]\n",
      "Fancy indexing [0, 2], [1, 3]: [ 2 12]\n"
     ]
    }
   ],
   "source": [
    "print(\"Fancy indexing [0, 2]:\\n\", arr[[0, 2]])\n",
    "print(\"Fancy indexing [0, 2], [1, 3]:\\n\", arr[[0, 2], [1, 3]])"
   ]
  }
 ],
 "metadata": {
  "kernelspec": {
   "display_name": ".venv",
   "language": "python",
   "name": "python3"
  },
  "language_info": {
   "codemirror_mode": {
    "name": "ipython",
    "version": 3
   },
   "file_extension": ".py",
   "mimetype": "text/x-python",
   "name": "python",
   "nbconvert_exporter": "python",
   "pygments_lexer": "ipython3",
   "version": "3.12.6"
  }
 },
 "nbformat": 4,
 "nbformat_minor": 5
}
